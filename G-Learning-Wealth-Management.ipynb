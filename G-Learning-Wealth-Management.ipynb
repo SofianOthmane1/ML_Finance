{
 "cells": [
  {
   "cell_type": "markdown",
   "id": "f046ea7b-6d0f-4408-81a7-68958d10a67f",
   "metadata": {},
   "source": [
    "# G-Learning for wealth optimization "
   ]
  },
  {
   "cell_type": "markdown",
   "id": "403166f5-ec5c-45b5-8fae-a5bbf9ce9a8b",
   "metadata": {},
   "source": [
    "This section will demonstrate the use of G-Learning with quadratic rewards for optimisation of a contribution retirement plan."
   ]
  },
  {
   "cell_type": "code",
   "execution_count": 24,
   "id": "4ce1f47b-174f-44a2-8d34-467ba44f0988",
   "metadata": {},
   "outputs": [],
   "source": [
    "import numpy as np\n",
    "import matplotlib.pyplot as plt \n",
    "%matplotlib inline\n",
    "\n",
    "import time\n",
    "from scipy.optimize import minimize\n",
    "import torch\n",
    "\n",
    "import torch.optim as optim\n",
    "\n",
    "import warnings\n",
    "warnings.filterwarnings('ignore')"
   ]
  },
  {
   "cell_type": "code",
   "execution_count": 13,
   "id": "04e651a6-7041-44ba-afbc-672c81f076f4",
   "metadata": {},
   "outputs": [
    {
     "name": "stdout",
     "output_type": "stream",
     "text": [
      "env: KMP_DUPLICATE_LIB_OK=TRUE\n"
     ]
    }
   ],
   "source": [
    "%env KMP_DUPLICATE_LIB_OK=TRUE"
   ]
  },
  {
   "cell_type": "code",
   "execution_count": 26,
   "id": "7a6a0e6a-011c-4469-bd52-cbaaaed33d65",
   "metadata": {},
   "outputs": [],
   "source": [
    "# set the device\n",
    "device = 'cuda' if torch.cuda.is_available() else 'cpu'"
   ]
  },
  {
   "cell_type": "code",
   "execution_count": null,
   "id": "8a276aba-d96d-4dba-a48b-e031f797306f",
   "metadata": {},
   "outputs": [],
   "source": []
  }
 ],
 "metadata": {
  "kernelspec": {
   "display_name": "Python 3 (ipykernel)",
   "language": "python",
   "name": "python3"
  },
  "language_info": {
   "codemirror_mode": {
    "name": "ipython",
    "version": 3
   },
   "file_extension": ".py",
   "mimetype": "text/x-python",
   "name": "python",
   "nbconvert_exporter": "python",
   "pygments_lexer": "ipython3",
   "version": "3.11.7"
  }
 },
 "nbformat": 4,
 "nbformat_minor": 5
}
